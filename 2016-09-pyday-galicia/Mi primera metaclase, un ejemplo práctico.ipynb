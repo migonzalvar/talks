{
 "cells": [
  {
   "cell_type": "markdown",
   "metadata": {},
   "source": [
    "# Mi primera metaclase: un ejemplo práctico\n",
    "\n",
    "# PyDay Galicia 2016\n",
    "\n",
    "---\n",
    "\n",
    "![](img/drink.jpg)\n",
    "\n",
    "\n",
    "## Metaprogramación\n",
    "\n",
    "\n",
    "> Escribir programas que escriben o manipulan otros programas (o así mismos)\n",
    "\n",
    "## Python: metaclases\n",
    "\n",
    "Controlan la creación de la clases.\n",
    "\n",
    "## Objetivo\n",
    "\n",
    "Ejemplo paso a paso de creción de una metaclase para resolver un problema práctico.\n",
    "\n",
    "# Empezamos\n",
    "\n",
    "---\n",
    "\n",
    "![](img/alice.jpg)\n",
    "\n",
    "## Problema\n",
    "\n",
    "Una consulta a una API externa me devuelve un JSON feísimo."
   ]
  },
  {
   "cell_type": "code",
   "execution_count": 1,
   "metadata": {
    "collapsed": true
   },
   "outputs": [],
   "source": [
    "s = '''{\"iniFecha\": \"12/05/2010\",\n",
    "        \"imp\": 12.24,\n",
    "        \"nombre\": \"Don Pimp\\xf3n\"}'''"
   ]
  },
  {
   "cell_type": "markdown",
   "metadata": {
    "nbpresent": {
     "id": "02fc20f3-5fdb-4e11-821a-8f5b954782cb"
    },
    "slideshow": {
     "slide_type": "slide"
    }
   },
   "source": [
    "- Nombre *camelCase*\n",
    "- Fecha e suna cadena\n",
    "- un float para cantidades\n",
    "\n",
    "---\n",
    "\n",
    "\n",
    "## Módulo `json`"
   ]
  },
  {
   "cell_type": "code",
   "execution_count": 2,
   "metadata": {
    "collapsed": false,
    "nbpresent": {
     "id": "1569956c-2b8c-4a66-ac2e-a9dc46020bcc"
    },
    "slideshow": {
     "slide_type": "-"
    }
   },
   "outputs": [
    {
     "data": {
      "text/plain": [
       "{'imp': 12.24, 'iniFecha': '12/05/2010', 'nombre': 'Don Pimpón'}"
      ]
     },
     "execution_count": 2,
     "metadata": {},
     "output_type": "execute_result"
    }
   ],
   "source": [
    "import json\n",
    "\n",
    "d = json.loads(s)\n",
    "d"
   ]
  },
  {
   "cell_type": "markdown",
   "metadata": {},
   "source": [
    "## Deseo\n",
    "\n",
    "Tener un objeto Python\n",
    "\n",
    "```python\n",
    "Model(amount=Decimal('12.24'), start_date=datetime.date(2010, 5, 12), name='Don Pimpón')\n",
    "```"
   ]
  },
  {
   "cell_type": "markdown",
   "metadata": {
    "nbpresent": {
     "id": "8ca33557-1a4d-47a3-929c-a1ad76f91c01"
    }
   },
   "source": [
    "## 1) Definir modelo"
   ]
  },
  {
   "cell_type": "code",
   "execution_count": 3,
   "metadata": {
    "collapsed": false
   },
   "outputs": [],
   "source": [
    "class Model:\n",
    "    def __init__(self, amount=None, start_date=None, name=None):\n",
    "        self.amount = amount\n",
    "        self.start_date = start_date\n",
    "        self.name = name\n",
    "        \n",
    "    def __repr__(self):\n",
    "        return ('Model('\n",
    "                'amount={s.amount!r}, '\n",
    "                'start_date={s.start_date!r}, '\n",
    "                'name={s.name!r})').format(s=self)"
   ]
  },
  {
   "cell_type": "markdown",
   "metadata": {},
   "source": [
    "## 2) Deserializador"
   ]
  },
  {
   "cell_type": "code",
   "execution_count": 4,
   "metadata": {
    "collapsed": false,
    "nbpresent": {
     "id": "4d64445c-4399-49e2-83ec-08815ce7f738"
    }
   },
   "outputs": [
    {
     "data": {
      "text/plain": [
       "Model(amount=12.24, start_date='12/05/2010', name='Don Pimpón')"
      ]
     },
     "execution_count": 4,
     "metadata": {},
     "output_type": "execute_result"
    }
   ],
   "source": [
    "def from_json(s):\n",
    "    d = json.loads(s)\n",
    "    obj = Model()\n",
    "    obj.amount = d['imp']\n",
    "    obj.start_date = d['iniFecha']\n",
    "    obj.name = d['nombre']\n",
    "    return obj\n",
    "\n",
    "obj = from_json(s)\n",
    "obj"
   ]
  },
  {
   "cell_type": "markdown",
   "metadata": {},
   "source": [
    "## 3) Serializador"
   ]
  },
  {
   "cell_type": "code",
   "execution_count": 5,
   "metadata": {
    "collapsed": false,
    "nbpresent": {
     "id": "734c3930-bb74-409d-8b76-07dfd2ddba7d"
    }
   },
   "outputs": [
    {
     "name": "stdout",
     "output_type": "stream",
     "text": [
      "{\n",
      "  \"nombre\": \"Don Pimp\\u00f3n\",\n",
      "  \"imp\": 12.24,\n",
      "  \"iniFecha\": \"12/05/2010\"\n",
      "}\n"
     ]
    }
   ],
   "source": [
    "def to_json(obj):\n",
    "    d = {}\n",
    "    d['imp'] = obj.amount\n",
    "    d['iniFecha'] = obj.start_date\n",
    "    d['nombre'] = obj.name\n",
    "    return json.dumps(d, indent=2)\n",
    "\n",
    "d2 = to_json(obj)\n",
    "print(d2)"
   ]
  },
  {
   "cell_type": "markdown",
   "metadata": {},
   "source": [
    "## Con tipos nativos!"
   ]
  },
  {
   "cell_type": "markdown",
   "metadata": {},
   "source": [
    "## Deserializar"
   ]
  },
  {
   "cell_type": "code",
   "execution_count": 6,
   "metadata": {
    "collapsed": false,
    "nbpresent": {
     "id": "cd959be7-212b-4431-bd38-30cdc5bbbfcc"
    }
   },
   "outputs": [
    {
     "data": {
      "text/plain": [
       "Model(amount=Decimal('12.24'), start_date=datetime.date(2010, 5, 12), name='Don Pimpón')"
      ]
     },
     "execution_count": 6,
     "metadata": {},
     "output_type": "execute_result"
    }
   ],
   "source": [
    "from decimal import Decimal as D\n",
    "import datetime as dt\n",
    "\n",
    "def from_json(s):\n",
    "    d = json.loads(s)\n",
    "    obj = Model()\n",
    "    obj.amount = D(str(d['imp']))\n",
    "    obj.start_date = dt.datetime.strptime(d['iniFecha'], '%d/%m/%Y').date()\n",
    "    obj.name = d['nombre']\n",
    "    return obj\n",
    "\n",
    "obj = from_json(s)\n",
    "obj"
   ]
  },
  {
   "cell_type": "markdown",
   "metadata": {},
   "source": [
    "## Serializar"
   ]
  },
  {
   "cell_type": "code",
   "execution_count": 7,
   "metadata": {
    "collapsed": false,
    "nbpresent": {
     "id": "5bff2df9-89d5-4262-8b64-9851a986b0fc"
    }
   },
   "outputs": [
    {
     "name": "stdout",
     "output_type": "stream",
     "text": [
      "{\n",
      "  \"nombre\": \"Don Pimp\\u00f3n\",\n",
      "  \"imp\": \"12.24\",\n",
      "  \"iniFecha\": \"12/05/2010\"\n",
      "}\n"
     ]
    }
   ],
   "source": [
    "def to_json(obj):\n",
    "    d = {}\n",
    "    d['imp'] = str(obj.amount)\n",
    "    d['iniFecha'] = obj.start_date.strftime('%d/%m/%Y')\n",
    "    d['nombre'] = obj.name\n",
    "    return json.dumps(d, indent=2)\n",
    "\n",
    "d = to_json(obj)\n",
    "print(d)"
   ]
  },
  {
   "cell_type": "markdown",
   "metadata": {},
   "source": [
    "## Hasta aqui\n",
    "\n",
    "Ventajas: más pythonico\n",
    "\n",
    "- tipos nativos (decimal, fecha)\n",
    "- atributos en vez de claves\n",
    "\n",
    "Desventajas: ¡MUCHO CÓDIGO!\n",
    "\n",
    "- Cada modelo código repetitivo\n",
    "- Desperdigado\n",
    "\n",
    "\n",
    "# Metaclases al rescate\n",
    "\n",
    "---\n",
    "\n",
    "![](img/chesire.jpg)"
   ]
  },
  {
   "cell_type": "markdown",
   "metadata": {},
   "source": [
    "## ¿Qué quiero obtener?\n",
    "\n",
    "```\n",
    "class Model:\n",
    "    start_date = DateField('iniFecha')\n",
    "    amount = DecimalField('imp')\n",
    "    name = Field('nombre')\n",
    "    \n",
    "obj = Model.from_json(s)\n",
    "```"
   ]
  },
  {
   "cell_type": "markdown",
   "metadata": {},
   "source": [
    "## Clases por campo"
   ]
  },
  {
   "cell_type": "code",
   "execution_count": 8,
   "metadata": {
    "collapsed": true
   },
   "outputs": [],
   "source": [
    "class Field:\n",
    "    def __init__(self, key):\n",
    "        self.key = key\n",
    "\n",
    "    def from_json(self, value):\n",
    "        return value\n",
    "\n",
    "    def to_json(self, value):\n",
    "        return value"
   ]
  },
  {
   "cell_type": "markdown",
   "metadata": {},
   "source": [
    "## Decimal"
   ]
  },
  {
   "cell_type": "code",
   "execution_count": 9,
   "metadata": {
    "collapsed": true
   },
   "outputs": [],
   "source": [
    "class DecimalField(Field):\n",
    "    def from_json(self, value):\n",
    "        return D(str(value))\n",
    "\n",
    "    def to_json(self, value):\n",
    "        return float(value)"
   ]
  },
  {
   "cell_type": "markdown",
   "metadata": {},
   "source": [
    "## Fecha"
   ]
  },
  {
   "cell_type": "code",
   "execution_count": 10,
   "metadata": {
    "collapsed": true
   },
   "outputs": [],
   "source": [
    "class DateField(Field):\n",
    "    def from_json(self, value):\n",
    "        return dt.datetime.\\\n",
    "            strptime(value, '%d/%m/%Y').date()\n",
    "\n",
    "    def to_json(self, value):\n",
    "        return value.strftime('%d/%m/%Y')"
   ]
  },
  {
   "cell_type": "markdown",
   "metadata": {},
   "source": [
    "## Clases\n",
    "\n",
    "```python\n",
    "class Meta(type):\n",
    "    ...\n",
    "\n",
    "class Base(metaclass=Meta):\n",
    "    ...\n",
    "\n",
    "class Model(Base):\n",
    "    ...\n",
    "```\n",
    "\n",
    "## Meta\n",
    "\n",
    "Es el que intercepta la creación de la clase `Base`.\n",
    "\n",
    "La clave es el método `__new__`.\n",
    "\n",
    "En tiempo de ejecución rellenamos `cls.fields`\n",
    "\n",
    "---\n",
    "\n",
    "```python\n",
    "def __new__(mcs, clsname, bases, clsdict):\n",
    "    fields = collections.OrderedDict()\n",
    "    for name, value in clsdict.items():\n",
    "        if isinstance(value, Field):\n",
    "            fields[name] = value\n",
    "    clsdict['fields'] = fields\n",
    "    return type.__new__(mcs, clsname, bases, newdict)\n",
    "```\n",
    "\n",
    "---\n",
    "\n",
    "```\n",
    "fields = {'amount': <__main__.DecimalField at 0x>,\n",
    " 'name': <__main__.Field at 0x>,\n",
    " 'start_date': <__main__.DateField at 0x>}\n",
    "```\n",
    "\n",
    "## Base\n",
    "\n",
    "Implmenta `from_json` (método de clase) y `to_json` (instancia) y `__str__`.\n",
    "\n",
    "---\n",
    "\n",
    "```python\n",
    "class Base(metaclass=Meta):\n",
    "    @classmethod\n",
    "    def from_json(cls, s):\n",
    "        d = json.loads(s)\n",
    "        obj = cls()\n",
    "        for field_name, field in cls.fields.items():\n",
    "            value = field.from_json(d[field.key])\n",
    "            setattr(obj, field_name, value)\n",
    "        return obj\n",
    "```\n",
    "---\n",
    "\n",
    "```python\n",
    "    def to_json(self):\n",
    "        d = collections.OrderedDict()\n",
    "        for field_name, field in self.fields.items():\n",
    "            value = field.to_json(getattr(self, field_name))\n",
    "            d[field.key] = value\n",
    "        return json.dumps(d)\n",
    "```\n",
    "---\n",
    "```python\n",
    "    def __repr__(self):\n",
    "        class_name = self.__class__.__name__\n",
    "        payload = []\n",
    "        for field_name, field in self.fields.items():\n",
    "            payload.append('{name}={value!r}'.format(name=field_name, value=getattr(self, field_name)))\n",
    "        payload = ', '.join(payload)\n",
    "        return '{}({})'.format(class_name, payload)\n",
    "```\n",
    "\n",
    "## Model\n",
    "\n",
    "Nada\n",
    "\n",
    "```python\n",
    "class Model(Base):\n",
    "    amount = DecimalField('imp')\n",
    "    start_date = DateField('iniFecha')\n",
    "    name = Field('nombre')\n",
    "```"
   ]
  },
  {
   "cell_type": "markdown",
   "metadata": {},
   "source": [
    "## Ejemplo completo"
   ]
  },
  {
   "cell_type": "code",
   "execution_count": 16,
   "metadata": {
    "collapsed": false
   },
   "outputs": [],
   "source": [
    "import collections\n",
    "from inspect import Signature, Parameter\n",
    "\n",
    "class Meta(type):\n",
    "    def __new__(mcs, clsname, bases, clsdict):\n",
    "        fields = collections.OrderedDict()\n",
    "        params = []\n",
    "        for name, value in clsdict.items():\n",
    "            if isinstance(value, Field):\n",
    "                fields[name] = value\n",
    "                params.append(Parameter(name, Parameter.POSITIONAL_OR_KEYWORD, default=None))\n",
    "\n",
    "        clsdict['fields'] = fields\n",
    "        clsdict['__signature__'] = Signature(params)\n",
    "\n",
    "        return type.__new__(mcs, clsname, bases, clsdict)\n",
    "\n",
    "    @classmethod\n",
    "    def __prepare__(metacls, name, bases):\n",
    "        return collections.OrderedDict()\n",
    "\n",
    "class Base(metaclass=Meta):\n",
    "    __signature__ = None\n",
    "    fields = None\n",
    "\n",
    "    @classmethod\n",
    "    def from_json(cls, s):\n",
    "        d = json.loads(s)\n",
    "        obj = cls()\n",
    "        for field_name, field in cls.fields.items():\n",
    "            value = field.from_json(d[field.key])\n",
    "            setattr(obj, field_name, value)\n",
    "        return obj\n",
    "\n",
    "    def __init__(self, *args, **kwargs):\n",
    "        bound_values = self.__signature__.bind(*args, **kwargs)\n",
    "        for name, value in bound_values.arguments.items():\n",
    "            setattr(self, name, value)\n",
    "\n",
    "    def to_json(self):\n",
    "        d = collections.OrderedDict()\n",
    "        for field_name, field in self.fields.items():\n",
    "            value = field.to_json(getattr(self, field_name))\n",
    "            d[field.key] = value\n",
    "        return json.dumps(d)\n",
    "\n",
    "    def __repr__(self):\n",
    "        class_name = self.__class__.__name__\n",
    "        payload = []\n",
    "        for field_name, field in self.fields.items():\n",
    "            payload.append('{name}={value!r}'.format(name=field_name, value=getattr(self, field_name)))\n",
    "        payload = ', '.join(payload)\n",
    "        return '{}({})'.format(class_name, payload)\n",
    "\n",
    "class Model(Base):\n",
    "    amount = DecimalField('imp')\n",
    "    start_date = DateField('iniFecha')\n",
    "    name = Field('nombre')"
   ]
  },
  {
   "cell_type": "markdown",
   "metadata": {},
   "source": [
    "## Test"
   ]
  },
  {
   "cell_type": "code",
   "execution_count": 17,
   "metadata": {
    "collapsed": true
   },
   "outputs": [],
   "source": [
    "# Given\n",
    "s = '''{\"iniFecha\": \"12/05/2010\",\n",
    "         \"imp\": 12.24, \n",
    "         \"nombre\": \"Don Pimp\\xf3n\"}'''"
   ]
  },
  {
   "cell_type": "markdown",
   "metadata": {},
   "source": [
    "---"
   ]
  },
  {
   "cell_type": "code",
   "execution_count": 18,
   "metadata": {
    "collapsed": false
   },
   "outputs": [],
   "source": [
    "obj = Model.from_json(s)\n",
    "assert json.loads(obj.to_json()) == json.loads(s)"
   ]
  },
  {
   "cell_type": "markdown",
   "metadata": {},
   "source": [
    "---"
   ]
  },
  {
   "cell_type": "code",
   "execution_count": 19,
   "metadata": {
    "collapsed": false
   },
   "outputs": [],
   "source": [
    "obj = Model.from_json(s)\n",
    "assert obj.name == 'Don Pimpón'\n",
    "assert obj.start_date == dt.date(2010, 5, 12)\n",
    "assert obj.amount == D('12.24')"
   ]
  },
  {
   "cell_type": "markdown",
   "metadata": {},
   "source": [
    "---"
   ]
  },
  {
   "cell_type": "code",
   "execution_count": 20,
   "metadata": {
    "collapsed": false
   },
   "outputs": [],
   "source": [
    "obj = Model.from_json(s)\n",
    "assert repr(obj) == (\n",
    "    \"Model(amount=Decimal('12.24'), \"\n",
    "    \"start_date=datetime.date(2010, 5, 12), \"\n",
    "    \"name='Don Pimpón')\"\n",
    ")"
   ]
  },
  {
   "cell_type": "markdown",
   "metadata": {
    "nbpresent": {
     "id": "6e4c54a5-d4c0-40c0-9dc5-630b791aa4af"
    }
   },
   "source": [
    "# Conclusiones\n",
    "\n",
    "---\n",
    "\n",
    "![](img/madhatter.jpg)\n",
    "\n",
    "## Siguientes pasos\n",
    "\n",
    "- Campos anidados\n",
    "- Cambiar firma de `__init__`\n",
    "\n",
    "## ¿Por qué?\n",
    "\n",
    "- Fun!\n",
    "- Declarativo en vez de imperativo\n",
    "- Reduce código repetitivo\n",
    "\n",
    "# FIN\n",
    "\n",
    "\n",
    "## Notas\n",
    "\n",
    "- Los ORM, formularios... utilizan esta técnica.\n",
    "\n",
    "- No es necesario hacerlo uno mismos: hay librerías que hacen esto. Ver marshmallow o Django REST framework.\n",
    "\n",
    "## Más info\n",
    "\n",
    "- http://chimera.labs.oreilly.com/books/1230000000393"
   ]
  }
 ],
 "metadata": {
  "anaconda-cloud": {},
  "celltoolbar": "Slideshow",
  "kernelspec": {
   "display_name": "Python [conda root]",
   "language": "python",
   "name": "conda-root-py"
  },
  "language_info": {
   "codemirror_mode": {
    "name": "ipython",
    "version": 3
   },
   "file_extension": ".py",
   "mimetype": "text/x-python",
   "name": "python",
   "nbconvert_exporter": "python",
   "pygments_lexer": "ipython3",
   "version": "3.5.2"
  },
  "nbpresent": {
   "slides": {},
   "themes": {
    "default": "69ca5905-8e9d-4e36-9de0-a98f7259e273",
    "theme": {}
   }
  }
 },
 "nbformat": 4,
 "nbformat_minor": 0
}
