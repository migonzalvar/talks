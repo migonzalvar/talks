{
 "cells": [
  {
   "cell_type": "markdown",
   "metadata": {
    "nbpresent": {
     "id": "02fc20f3-5fdb-4e11-821a-8f5b954782cb"
    },
    "slideshow": {
     "slide_type": "-"
    }
   },
   "source": [
    "# Mi primera metaclase: un ejemplo práctico"
   ]
  },
  {
   "cell_type": "code",
   "execution_count": 1,
   "metadata": {
    "collapsed": true,
    "nbpresent": {
     "id": "25e2da5c-ca37-4d4e-8865-b5aa9b88b854"
    },
    "slideshow": {
     "slide_type": "-"
    }
   },
   "outputs": [],
   "source": [
    "s = '{\"iniFecha\": \"12/05/2010\", \"imp\": 12.24, \"nombre\": \"Don Pimp\\xf3n\"}'"
   ]
  },
  {
   "cell_type": "code",
   "execution_count": 2,
   "metadata": {
    "collapsed": false,
    "nbpresent": {
     "id": "1569956c-2b8c-4a66-ac2e-a9dc46020bcc"
    },
    "slideshow": {
     "slide_type": "-"
    }
   },
   "outputs": [
    {
     "data": {
      "text/plain": [
       "{'imp': 12.24, 'iniFecha': '12/05/2010', 'nombre': 'Don Pimpón'}"
      ]
     },
     "execution_count": 2,
     "metadata": {},
     "output_type": "execute_result"
    }
   ],
   "source": [
    "import json\n",
    "\n",
    "d = json.loads(s)\n",
    "d"
   ]
  },
  {
   "cell_type": "code",
   "execution_count": 3,
   "metadata": {
    "collapsed": false,
    "nbpresent": {
     "id": "4d64445c-4399-49e2-83ec-08815ce7f738"
    }
   },
   "outputs": [
    {
     "data": {
      "text/plain": [
       "<__main__.Model at 0x7f2df00806d8>"
      ]
     },
     "execution_count": 3,
     "metadata": {},
     "output_type": "execute_result"
    }
   ],
   "source": [
    "class Model:\n",
    "    def __init__(self, amount=None, start_date=None, name=None):\n",
    "        self.amount = amount\n",
    "        self.start_date = start_date\n",
    "        self.name = name\n",
    "        \n",
    "def from_json(s):\n",
    "    d = json.loads(s)\n",
    "    obj = Model()\n",
    "    obj.amount = d['imp']\n",
    "    obj.start_date = d['iniFecha']\n",
    "    obj.name = d['nombre']\n",
    "    return obj\n",
    "\n",
    "obj = from_json(s)\n",
    "obj"
   ]
  },
  {
   "cell_type": "markdown",
   "metadata": {
    "collapsed": true,
    "nbpresent": {
     "id": "51eb6c51-6c5c-498f-8c3a-a1447e780d89"
    }
   },
   "source": [
    "Ventajas:\n",
    "- ¿más *pythonico*?\n",
    "- snake_case en vez de camelCase\n",
    "- atributos no claves: `obj.start_date` frente a `d['inifecha']`\n",
    "\n",
    "Desventajas:\n",
    "- perdemos representación\n",
    "- no hay posibilidad de volver a serializar\n",
    "- mucho código"
   ]
  },
  {
   "cell_type": "code",
   "execution_count": 4,
   "metadata": {
    "collapsed": false,
    "nbpresent": {
     "id": "734c3930-bb74-409d-8b76-07dfd2ddba7d"
    }
   },
   "outputs": [
    {
     "data": {
      "text/plain": [
       "'{\"imp\": 12.24, \"iniFecha\": \"12/05/2010\", \"nombre\": \"Don Pimp\\\\u00f3n\"}'"
      ]
     },
     "execution_count": 4,
     "metadata": {},
     "output_type": "execute_result"
    }
   ],
   "source": [
    "def to_json(obj):\n",
    "    d = {}\n",
    "    d['imp'] = obj.amount\n",
    "    d['iniFecha'] = obj.start_date\n",
    "    d['nombre'] = obj.name\n",
    "    return json.dumps(d)\n",
    "\n",
    "d2 = to_json(obj)\n",
    "d2"
   ]
  },
  {
   "cell_type": "code",
   "execution_count": 5,
   "metadata": {
    "collapsed": false,
    "nbpresent": {
     "id": "b7c948d5-7d3a-4ea4-8111-66013614df6a"
    }
   },
   "outputs": [
    {
     "data": {
      "text/plain": [
       "Model(amount=12.24, start_date='12/05/2010', name='Don Pimpón')"
      ]
     },
     "execution_count": 5,
     "metadata": {},
     "output_type": "execute_result"
    }
   ],
   "source": [
    "class Model:\n",
    "    def __init__(self, amount=None, start_date=None, name=None):\n",
    "        self.amount = amount\n",
    "        self.start_date = start_date\n",
    "        self.name = name\n",
    "        \n",
    "    def __repr__(self):\n",
    "        return ('Model('\n",
    "                'amount={s.amount!r}, '\n",
    "                'start_date={s.start_date!r}, '\n",
    "                'name={s.name!r})').format(s=self)\n",
    "    \n",
    "obj = from_json(s)\n",
    "obj"
   ]
  },
  {
   "cell_type": "markdown",
   "metadata": {},
   "source": [
    "Desventajas:\n",
    "- ~~perdemos representación~~\n",
    "- ~~no hay posibilidad de volver a serializar~~\n",
    "- MUCHO CÓDIGO"
   ]
  },
  {
   "cell_type": "code",
   "execution_count": 6,
   "metadata": {
    "collapsed": false
   },
   "outputs": [
    {
     "data": {
      "text/plain": [
       "Model(amount=Decimal('12.24'), start_date=datetime.date(2010, 5, 12), name='Don Pimpón')"
      ]
     },
     "execution_count": 6,
     "metadata": {},
     "output_type": "execute_result"
    }
   ],
   "source": [
    "from decimal import Decimal as D\n",
    "import datetime as dt\n",
    "\n",
    "def from_json(s):\n",
    "    d = json.loads(s)\n",
    "    obj = Model()\n",
    "    obj.amount = D(str(d['imp']))\n",
    "    obj.start_date = dt.datetime.strptime(d['iniFecha'], '%d/%m/%Y').date()\n",
    "    obj.name = d['nombre']\n",
    "    return obj\n",
    "\n",
    "obj = from_json(s)\n",
    "obj"
   ]
  },
  {
   "cell_type": "code",
   "execution_count": 7,
   "metadata": {
    "collapsed": false
   },
   "outputs": [
    {
     "data": {
      "text/plain": [
       "'{\"imp\": \"12.24\", \"iniFecha\": \"12/05/2010\", \"nombre\": \"Don Pimp\\\\u00f3n\"}'"
      ]
     },
     "execution_count": 7,
     "metadata": {},
     "output_type": "execute_result"
    }
   ],
   "source": [
    "def to_json(obj):\n",
    "    d = {}\n",
    "    d['imp'] = str(obj.amount)\n",
    "    d['iniFecha'] = obj.start_date.strftime('%d/%m/%Y')\n",
    "    d['nombre'] = obj.name\n",
    "    return json.dumps(d)\n",
    "\n",
    "d3 = to_json(obj)\n",
    "d3"
   ]
  },
  {
   "cell_type": "markdown",
   "metadata": {},
   "source": [
    "Ventajas:\n",
    "- tipos nativos (decimal, fecha)\n",
    "\n",
    "Desventajas:\n",
    "- ¡MUCHO CÓDIGO!"
   ]
  },
  {
   "cell_type": "markdown",
   "metadata": {},
   "source": [
    "- Cada modelo código repetitivo\n",
    "- Conversiones desperdigadas\n",
    "\n",
    "... descriptores al rescate"
   ]
  },
  {
   "cell_type": "code",
   "execution_count": 8,
   "metadata": {
    "collapsed": true
   },
   "outputs": [],
   "source": [
    "class Field:\n",
    "    def __init__(self, name):\n",
    "        self.name = name\n",
    "        self.value = None\n",
    "        \n",
    "    def __get__(self, obj, objtype=None):\n",
    "        if obj is None:\n",
    "            return self\n",
    "        else:\n",
    "            return obj.__dict__[self.name]\n",
    "\n",
    "    def __set__(self, obj, value):\n",
    "        self.value = value\n",
    "        obj.__dict__[self.name] = value"
   ]
  },
  {
   "cell_type": "code",
   "execution_count": 12,
   "metadata": {
    "collapsed": false
   },
   "outputs": [],
   "source": [
    "class Model2:\n",
    "    amount = Field('amount')\n",
    "    start_date = Field('start_date')\n",
    "    name = Field('name')\n",
    "    \n",
    "    def __init__(self, amount=None, start_date=None, name=None):\n",
    "        self.amount = amount\n",
    "        self.start_date = start_date\n",
    "        self.name = name\n",
    "        \n",
    "    def __repr__(self):\n",
    "        return ('Model2('\n",
    "                'amount={s.amount!r}, '\n",
    "                'start_date={s.start_date!r}, '\n",
    "                'name={s.name!r})').format(s=self)"
   ]
  },
  {
   "cell_type": "code",
   "execution_count": 13,
   "metadata": {
    "collapsed": false
   },
   "outputs": [
    {
     "data": {
      "text/plain": [
       "Model2(amount=Decimal('12.24'), start_date=datetime.date(2010, 5, 12), name='Don Pimpón')"
      ]
     },
     "execution_count": 13,
     "metadata": {},
     "output_type": "execute_result"
    }
   ],
   "source": [
    "from decimal import Decimal as D\n",
    "import datetime as dt\n",
    "\n",
    "def from_json2(s):\n",
    "    d = json.loads(s)\n",
    "    obj = Model2()\n",
    "    obj.amount = D(str(d['imp']))\n",
    "    obj.start_date = dt.datetime.strptime(d['iniFecha'], '%d/%m/%Y').date()\n",
    "    obj.name = d['nombre']\n",
    "    return obj\n",
    "\n",
    "obj = from_json2(s)\n",
    "obj"
   ]
  },
  {
   "cell_type": "markdown",
   "metadata": {},
   "source": [
    "# Conclusiones"
   ]
  },
  {
   "cell_type": "markdown",
   "metadata": {},
   "source": [
    "Notas\n",
    "\n",
    "- Los ORM, formularios... utilizan esta técnica.\n",
    "\n",
    "- No es necesario hacerlo uno mismos: hay librerías que hacen esto. Ver marshmallow o Django REST framework.\n"
   ]
  }
 ],
 "metadata": {
  "anaconda-cloud": {},
  "kernelspec": {
   "display_name": "Python [conda root]",
   "language": "python",
   "name": "conda-root-py"
  },
  "language_info": {
   "codemirror_mode": {
    "name": "ipython",
    "version": 3
   },
   "file_extension": ".py",
   "mimetype": "text/x-python",
   "name": "python",
   "nbconvert_exporter": "python",
   "pygments_lexer": "ipython3",
   "version": "3.5.2"
  },
  "nbpresent": {
   "slides": {
    "ce31cdf5-9a66-4e89-b9d7-a0d07e509325": {
     "id": "ce31cdf5-9a66-4e89-b9d7-a0d07e509325",
     "prev": null,
     "regions": {
      "78f56a88-02f9-4c4a-9ca3-ae1a1039df40": {
       "attrs": {
        "height": 1,
        "width": 1,
        "x": 0,
        "y": 0
       },
       "id": "78f56a88-02f9-4c4a-9ca3-ae1a1039df40"
      }
     }
    }
   },
   "themes": {}
  }
 },
 "nbformat": 4,
 "nbformat_minor": 1
}
